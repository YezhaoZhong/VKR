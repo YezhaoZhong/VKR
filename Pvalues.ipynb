{
 "cells": [
  {
   "cell_type": "code",
   "execution_count": 2,
   "metadata": {},
   "outputs": [],
   "source": [
    "#!/usr/bin/env python\n",
    "\n",
    "import pandas as pd\n",
    "import numpy as np\n",
    "import pingouin as pg"
   ]
  },
  {
   "cell_type": "code",
   "execution_count": 29,
   "metadata": {},
   "outputs": [],
   "source": [
    "AUPR = pd.read_csv(\"results/AUPR.csv\", sep=\",\", index_col=0).T\n"
   ]
  },
  {
   "cell_type": "code",
   "execution_count": 30,
   "metadata": {},
   "outputs": [],
   "source": [
    "AUROC = pd.read_csv(\"results/AUROC.csv\", sep=\",\", index_col=0).T"
   ]
  },
  {
   "cell_type": "code",
   "execution_count": 35,
   "metadata": {},
   "outputs": [
    {
     "data": {
      "text/html": [
       "<div>\n",
       "<style scoped>\n",
       "    .dataframe tbody tr th:only-of-type {\n",
       "        vertical-align: middle;\n",
       "    }\n",
       "\n",
       "    .dataframe tbody tr th {\n",
       "        vertical-align: top;\n",
       "    }\n",
       "\n",
       "    .dataframe thead th {\n",
       "        text-align: right;\n",
       "    }\n",
       "</style>\n",
       "<table border=\"1\" class=\"dataframe\">\n",
       "  <thead>\n",
       "    <tr style=\"text-align: right;\">\n",
       "      <th></th>\n",
       "      <th>Naive</th>\n",
       "      <th>KR_DGI</th>\n",
       "      <th>KR_Chem</th>\n",
       "      <th>MKR</th>\n",
       "      <th>KR_DGI+Chem</th>\n",
       "      <th>LNSM_RLN_DGI</th>\n",
       "      <th>LNSM_RLN_Chem</th>\n",
       "      <th>LNSM_CMI_RLN</th>\n",
       "      <th>LNSM_SMI_RLN</th>\n",
       "      <th>LNSM_jaccard_DGI</th>\n",
       "      <th>...</th>\n",
       "      <th>SVM_RBF_DGI+Chem</th>\n",
       "      <th>SVM_linear_DGI</th>\n",
       "      <th>SVM_linear_Chem</th>\n",
       "      <th>SVM_linear_DGI_Chem</th>\n",
       "      <th>KRGRNMF_DGI</th>\n",
       "      <th>KRGRNMF_Chem</th>\n",
       "      <th>KRGRNMF_DGI_Chem</th>\n",
       "      <th>KRNMF_DGI</th>\n",
       "      <th>KRNMF_Chem</th>\n",
       "      <th>KRNMF_DGI+Chem</th>\n",
       "    </tr>\n",
       "  </thead>\n",
       "  <tbody>\n",
       "    <tr>\n",
       "      <th>0</th>\n",
       "      <td>0.3755</td>\n",
       "      <td>0.4181</td>\n",
       "      <td>0.4030</td>\n",
       "      <td>0.4273</td>\n",
       "      <td>0.4331</td>\n",
       "      <td>0.3257</td>\n",
       "      <td>0.3574</td>\n",
       "      <td>0.3574</td>\n",
       "      <td>0.2945</td>\n",
       "      <td>0.2877</td>\n",
       "      <td>...</td>\n",
       "      <td>0.3985</td>\n",
       "      <td>0.3230</td>\n",
       "      <td>0.3191</td>\n",
       "      <td>0.3297</td>\n",
       "      <td>0.4066</td>\n",
       "      <td>0.3903</td>\n",
       "      <td>0.4208</td>\n",
       "      <td>0.4201</td>\n",
       "      <td>0.4034</td>\n",
       "      <td>0.3846</td>\n",
       "    </tr>\n",
       "    <tr>\n",
       "      <th>1</th>\n",
       "      <td>0.3754</td>\n",
       "      <td>0.4331</td>\n",
       "      <td>0.3848</td>\n",
       "      <td>0.4383</td>\n",
       "      <td>0.4122</td>\n",
       "      <td>0.3139</td>\n",
       "      <td>0.3457</td>\n",
       "      <td>0.3457</td>\n",
       "      <td>0.2707</td>\n",
       "      <td>0.2986</td>\n",
       "      <td>...</td>\n",
       "      <td>0.3913</td>\n",
       "      <td>0.3210</td>\n",
       "      <td>0.2967</td>\n",
       "      <td>0.3187</td>\n",
       "      <td>0.4272</td>\n",
       "      <td>0.3938</td>\n",
       "      <td>0.4141</td>\n",
       "      <td>0.4290</td>\n",
       "      <td>0.3802</td>\n",
       "      <td>0.3900</td>\n",
       "    </tr>\n",
       "    <tr>\n",
       "      <th>2</th>\n",
       "      <td>0.3599</td>\n",
       "      <td>0.4339</td>\n",
       "      <td>0.3836</td>\n",
       "      <td>0.4425</td>\n",
       "      <td>0.4279</td>\n",
       "      <td>0.3225</td>\n",
       "      <td>0.3260</td>\n",
       "      <td>0.3260</td>\n",
       "      <td>0.2937</td>\n",
       "      <td>0.2852</td>\n",
       "      <td>...</td>\n",
       "      <td>0.3911</td>\n",
       "      <td>0.3420</td>\n",
       "      <td>0.3062</td>\n",
       "      <td>0.3361</td>\n",
       "      <td>0.4337</td>\n",
       "      <td>0.3787</td>\n",
       "      <td>0.4396</td>\n",
       "      <td>0.4377</td>\n",
       "      <td>0.3950</td>\n",
       "      <td>0.4059</td>\n",
       "    </tr>\n",
       "    <tr>\n",
       "      <th>3</th>\n",
       "      <td>0.3749</td>\n",
       "      <td>0.4439</td>\n",
       "      <td>0.4104</td>\n",
       "      <td>0.4493</td>\n",
       "      <td>0.4409</td>\n",
       "      <td>0.3078</td>\n",
       "      <td>0.3550</td>\n",
       "      <td>0.3550</td>\n",
       "      <td>0.2880</td>\n",
       "      <td>0.2730</td>\n",
       "      <td>...</td>\n",
       "      <td>0.4220</td>\n",
       "      <td>0.3344</td>\n",
       "      <td>0.3260</td>\n",
       "      <td>0.3595</td>\n",
       "      <td>0.4425</td>\n",
       "      <td>0.3924</td>\n",
       "      <td>0.4601</td>\n",
       "      <td>0.4427</td>\n",
       "      <td>0.4199</td>\n",
       "      <td>0.4601</td>\n",
       "    </tr>\n",
       "    <tr>\n",
       "      <th>4</th>\n",
       "      <td>0.3718</td>\n",
       "      <td>0.4449</td>\n",
       "      <td>0.3968</td>\n",
       "      <td>0.4530</td>\n",
       "      <td>0.4432</td>\n",
       "      <td>0.3209</td>\n",
       "      <td>0.3467</td>\n",
       "      <td>0.3467</td>\n",
       "      <td>0.3276</td>\n",
       "      <td>0.3009</td>\n",
       "      <td>...</td>\n",
       "      <td>0.4166</td>\n",
       "      <td>0.3564</td>\n",
       "      <td>0.3267</td>\n",
       "      <td>0.3588</td>\n",
       "      <td>0.4384</td>\n",
       "      <td>0.3891</td>\n",
       "      <td>0.4582</td>\n",
       "      <td>0.4386</td>\n",
       "      <td>0.4160</td>\n",
       "      <td>0.4599</td>\n",
       "    </tr>\n",
       "  </tbody>\n",
       "</table>\n",
       "<p>5 rows × 28 columns</p>\n",
       "</div>"
      ],
      "text/plain": [
       "    Naive  KR_DGI  KR_Chem     MKR  KR_DGI+Chem  LNSM_RLN_DGI  LNSM_RLN_Chem  \\\n",
       "0  0.3755  0.4181   0.4030  0.4273       0.4331        0.3257         0.3574   \n",
       "1  0.3754  0.4331   0.3848  0.4383       0.4122        0.3139         0.3457   \n",
       "2  0.3599  0.4339   0.3836  0.4425       0.4279        0.3225         0.3260   \n",
       "3  0.3749  0.4439   0.4104  0.4493       0.4409        0.3078         0.3550   \n",
       "4  0.3718  0.4449   0.3968  0.4530       0.4432        0.3209         0.3467   \n",
       "\n",
       "   LNSM_CMI_RLN  LNSM_SMI_RLN  LNSM_jaccard_DGI  ...  SVM_RBF_DGI+Chem  \\\n",
       "0        0.3574        0.2945            0.2877  ...            0.3985   \n",
       "1        0.3457        0.2707            0.2986  ...            0.3913   \n",
       "2        0.3260        0.2937            0.2852  ...            0.3911   \n",
       "3        0.3550        0.2880            0.2730  ...            0.4220   \n",
       "4        0.3467        0.3276            0.3009  ...            0.4166   \n",
       "\n",
       "   SVM_linear_DGI  SVM_linear_Chem  SVM_linear_DGI_Chem  KRGRNMF_DGI  \\\n",
       "0          0.3230           0.3191               0.3297       0.4066   \n",
       "1          0.3210           0.2967               0.3187       0.4272   \n",
       "2          0.3420           0.3062               0.3361       0.4337   \n",
       "3          0.3344           0.3260               0.3595       0.4425   \n",
       "4          0.3564           0.3267               0.3588       0.4384   \n",
       "\n",
       "   KRGRNMF_Chem  KRGRNMF_DGI_Chem  KRNMF_DGI  KRNMF_Chem  KRNMF_DGI+Chem  \n",
       "0        0.3903            0.4208     0.4201      0.4034          0.3846  \n",
       "1        0.3938            0.4141     0.4290      0.3802          0.3900  \n",
       "2        0.3787            0.4396     0.4377      0.3950          0.4059  \n",
       "3        0.3924            0.4601     0.4427      0.4199          0.4601  \n",
       "4        0.3891            0.4582     0.4386      0.4160          0.4599  \n",
       "\n",
       "[5 rows x 28 columns]"
      ]
     },
     "execution_count": 35,
     "metadata": {},
     "output_type": "execute_result"
    }
   ],
   "source": [
    "AUPR"
   ]
  },
  {
   "cell_type": "code",
   "execution_count": 34,
   "metadata": {},
   "outputs": [
    {
     "ename": "AttributeError",
     "evalue": "'DataFrame' object has no attribute 'ptests'",
     "output_type": "error",
     "traceback": [
      "\u001b[1;31m---------------------------------------------------------------------------\u001b[0m",
      "\u001b[1;31mAttributeError\u001b[0m                            Traceback (most recent call last)",
      "\u001b[1;32m<ipython-input-34-e85027ed9147>\u001b[0m in \u001b[0;36m<module>\u001b[1;34m\u001b[0m\n\u001b[1;32m----> 1\u001b[1;33m \u001b[0mAUPR\u001b[0m\u001b[1;33m.\u001b[0m\u001b[0mptests\u001b[0m\u001b[1;33m(\u001b[0m\u001b[0mpaired\u001b[0m\u001b[1;33m=\u001b[0m\u001b[1;32mTrue\u001b[0m\u001b[1;33m,\u001b[0m \u001b[0mstars\u001b[0m\u001b[1;33m=\u001b[0m\u001b[1;32mFalse\u001b[0m\u001b[1;33m)\u001b[0m\u001b[1;33m\u001b[0m\u001b[1;33m\u001b[0m\u001b[0m\n\u001b[0m",
      "\u001b[1;32mc:\\Users\\mi\\Anaconda3\\envs\\tensorflow\\lib\\site-packages\\pandas\\core\\generic.py\u001b[0m in \u001b[0;36m__getattr__\u001b[1;34m(self, name)\u001b[0m\n\u001b[0;32m   5900\u001b[0m         ):\n\u001b[0;32m   5901\u001b[0m             \u001b[1;32mreturn\u001b[0m \u001b[0mself\u001b[0m\u001b[1;33m[\u001b[0m\u001b[0mname\u001b[0m\u001b[1;33m]\u001b[0m\u001b[1;33m\u001b[0m\u001b[1;33m\u001b[0m\u001b[0m\n\u001b[1;32m-> 5902\u001b[1;33m         \u001b[1;32mreturn\u001b[0m \u001b[0mobject\u001b[0m\u001b[1;33m.\u001b[0m\u001b[0m__getattribute__\u001b[0m\u001b[1;33m(\u001b[0m\u001b[0mself\u001b[0m\u001b[1;33m,\u001b[0m \u001b[0mname\u001b[0m\u001b[1;33m)\u001b[0m\u001b[1;33m\u001b[0m\u001b[1;33m\u001b[0m\u001b[0m\n\u001b[0m\u001b[0;32m   5903\u001b[0m \u001b[1;33m\u001b[0m\u001b[0m\n\u001b[0;32m   5904\u001b[0m     \u001b[1;32mdef\u001b[0m \u001b[0m__setattr__\u001b[0m\u001b[1;33m(\u001b[0m\u001b[0mself\u001b[0m\u001b[1;33m,\u001b[0m \u001b[0mname\u001b[0m\u001b[1;33m:\u001b[0m \u001b[0mstr\u001b[0m\u001b[1;33m,\u001b[0m \u001b[0mvalue\u001b[0m\u001b[1;33m)\u001b[0m \u001b[1;33m->\u001b[0m \u001b[1;32mNone\u001b[0m\u001b[1;33m:\u001b[0m\u001b[1;33m\u001b[0m\u001b[1;33m\u001b[0m\u001b[0m\n",
      "\u001b[1;31mAttributeError\u001b[0m: 'DataFrame' object has no attribute 'ptests'"
     ]
    }
   ],
   "source": [
    "AUPR.ptests(paired=True, stars=False)"
   ]
  },
  {
   "cell_type": "code",
   "execution_count": 33,
   "metadata": {},
   "outputs": [
    {
     "data": {
      "text/plain": [
       "pandas.core.frame.DataFrame"
      ]
     },
     "execution_count": 33,
     "metadata": {},
     "output_type": "execute_result"
    }
   ],
   "source": [
    "type(AUPR)\n"
   ]
  }
 ],
 "metadata": {
  "kernelspec": {
   "display_name": "Python 3.9.5 ('tf-2')",
   "language": "python",
   "name": "python3"
  },
  "language_info": {
   "codemirror_mode": {
    "name": "ipython",
    "version": 3
   },
   "file_extension": ".py",
   "mimetype": "text/x-python",
   "name": "python",
   "nbconvert_exporter": "python",
   "pygments_lexer": "ipython3",
   "version": "3.9.0"
  },
  "orig_nbformat": 4,
  "vscode": {
   "interpreter": {
    "hash": "ac95e2fd4e3c95fb3fb1f7e38114c393d9f202cef380ef2efc5a4245619d104b"
   }
  }
 },
 "nbformat": 4,
 "nbformat_minor": 2
}
