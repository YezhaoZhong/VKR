{
 "cells": [
  {
   "cell_type": "code",
   "execution_count": null,
   "metadata": {},
   "outputs": [],
   "source": [
    "#!/usr/bin/env python\n",
    "\n",
    "import pandas as pd\n",
    "import matplotlib.pyplot as plt\n",
    "from sklearn.metrics import auc"
   ]
  },
  {
   "attachments": {},
   "cell_type": "markdown",
   "metadata": {},
   "source": [
    "# Ploting comparison between VKR and KR"
   ]
  },
  {
   "attachments": {},
   "cell_type": "markdown",
   "metadata": {},
   "source": [
    "Loading files"
   ]
  },
  {
   "cell_type": "code",
   "execution_count": null,
   "metadata": {},
   "outputs": [],
   "source": [
    "KR1_pr = pd.read_csv(\"KR1_pr.csv\", sep=\",\", index_col=False).T\n",
    "KR1_roc = pd.read_csv(\"KR1_roc.csv\", sep=\",\", index_col=False).T\n",
    "KR2_pr = pd.read_csv(\"KR2_pr.csv\", sep=\",\", index_col=False).T\n",
    "KR2_roc = pd.read_csv(\"KR2_roc.csv\", sep=\",\", index_col=False).T\n",
    "KR1KR2_pr = pd.read_csv(\"KR1KR2_pr.csv\", sep=\",\", index_col=False).T\n",
    "KR1KR2_roc = pd.read_csv(\"KR1KR2_roc.csv\", sep=\",\", index_col=False).T\n",
    "MKR_pr = pd.read_csv(\"MKR_pr.csv\", sep=\",\", index_col=False).T\n",
    "MKR_roc = pd.read_csv(\"MKR_roc.csv\", sep=\",\", index_col=False).T"
   ]
  },
  {
   "cell_type": "code",
   "execution_count": null,
   "metadata": {},
   "outputs": [],
   "source": [
    "KRNMF1_pr = pd.read_csv(\"KRNMF1_pr.csv\", sep=\",\", index_col=False).T\n",
    "KRNMF1_roc = pd.read_csv(\"KRNMF1_roc.csv\", sep=\",\", index_col=False).T\n",
    "KRNMF2_pr = pd.read_csv(\"KRNMF2_pr.csv\", sep=\",\", index_col=False).T\n",
    "KRNMF2_roc = pd.read_csv(\"KRNMF2_roc.csv\", sep=\",\", index_col=False).T\n",
    "KRNMF12_pr = pd.read_csv(\"KRNMF12_pr.csv\", sep=\",\", index_col=False).T\n",
    "KRNMF12_roc = pd.read_csv(\"KRNMF12_roc.csv\", sep=\",\", index_col=False).T"
   ]
  },
  {
   "cell_type": "code",
   "execution_count": null,
   "metadata": {},
   "outputs": [],
   "source": [
    "LNSM_CMI_RLN_pr = pd.read_csv(\"LNSM_CMI_RLN_pr.csv\", sep=\",\", index_col=False).T\n",
    "LNSM_CMI_RLN_roc = pd.read_csv(\"LNSM_CMI_RLN_roc.csv\", sep=\",\", index_col=False).T\n",
    "LNSM_SMI_RLN_pr = pd.read_csv(\"LNSM_SMI_RLN_pr.csv\", sep=\",\", index_col=False).T\n",
    "LNSM_SMI_RLN_roc = pd.read_csv(\"LNSM_SMI_RLN_roc.csv\", sep=\",\", index_col=False).T\n",
    "LNSM_WMK1_RLN_pr = pd.read_csv(\"LNSM_WMK1_RLN_pr.csv\", sep=\",\", index_col=False).T\n",
    "LNSM_WMK1_RLN_roc = pd.read_csv(\"LNSM_WMK1_RLN_roc.csv\", sep=\",\", index_col=False).T\n",
    "LNSM_WMK2_RLN_pr = pd.read_csv(\"LNSM_WMK2_RLN_pr.csv\", sep=\",\", index_col=False).T\n",
    "LNSM_WMK2_RLN_roc = pd.read_csv(\"LNSM_WMK2_RLN_roc.csv\", sep=\",\", index_col=False).T"
   ]
  },
  {
   "cell_type": "code",
   "execution_count": null,
   "metadata": {},
   "outputs": [],
   "source": [
    "LNSM_CMI_jaccard_pr = pd.read_csv(\"LNSM_CMI_jaccard_pr.csv\", sep=\",\", index_col=False).T\n",
    "LNSM_CMI_jaccard_roc = pd.read_csv(\"LNSM_CMI_jaccard_roc.csv\", sep=\",\", index_col=False).T\n",
    "LNSM_SMI_jaccard_pr = pd.read_csv(\"LNSM_SMI_jaccard_pr.csv\", sep=\",\", index_col=False).T\n",
    "LNSM_SMI_jaccard_roc = pd.read_csv(\"LNSM_SMI_jaccard_roc.csv\", sep=\",\", index_col=False).T\n",
    "LNSM_WMK1_jaccard_pr = pd.read_csv(\"LNSM_WMK1_jaccard_pr.csv\", sep=\",\", index_col=False).T\n",
    "LNSM_WMK1_jaccard_roc = pd.read_csv(\"LNSM_WMK1_jaccard_roc.csv\", sep=\",\", index_col=False).T\n",
    "LNSM_WMK2_jaccard_pr = pd.read_csv(\"LNSM_WMK2_jaccard_pr.csv\", sep=\",\", index_col=False).T\n",
    "LNSM_WMK2_jaccard_roc = pd.read_csv(\"LNSM_WMK2_jaccard_roc.csv\", sep=\",\", index_col=False).T"
   ]
  },
  {
   "cell_type": "code",
   "execution_count": null,
   "metadata": {},
   "outputs": [],
   "source": [
    "naive_pr = pd.read_csv(\"naive_pr.csv\", sep=\",\", index_col=False).T\n",
    "naive_roc = pd.read_csv(\"naive_roc.csv\", sep=\",\", index_col=False).T"
   ]
  },
  {
   "cell_type": "code",
   "execution_count": null,
   "metadata": {},
   "outputs": [],
   "source": [
    "SVML1_pr = pd.read_csv(\"SVML1_pr.csv\", sep=\",\", index_col=False).T\n",
    "SVML1_roc = pd.read_csv(\"SVML1_roc.csv\", sep=\",\", index_col=False).T\n",
    "SVML2_pr = pd.read_csv(\"SVML2_pr.csv\", sep=\",\", index_col=False).T\n",
    "SVML2_roc = pd.read_csv(\"SVML2_roc.csv\", sep=\",\", index_col=False).T\n",
    "SVML12_pr = pd.read_csv(\"SVML12_pr.csv\", sep=\",\", index_col=False).T\n",
    "SVML12_roc = pd.read_csv(\"SVML12_roc.csv\", sep=\",\", index_col=False).T"
   ]
  },
  {
   "cell_type": "code",
   "execution_count": null,
   "metadata": {},
   "outputs": [],
   "source": [
    "SVMRBF1_pr = pd.read_csv(\"SVMRBF1_pr.csv\", sep=\",\", index_col=False).T\n",
    "SVMRBF1_roc = pd.read_csv(\"SVMRBF1_roc.csv\", sep=\",\", index_col=False).T\n",
    "SVMRBF2_pr = pd.read_csv(\"SVMRBF2_pr.csv\", sep=\",\", index_col=False).T\n",
    "SVMRBF2_roc = pd.read_csv(\"SVMRBF2_roc.csv\", sep=\",\", index_col=False).T\n",
    "SVMRBF12_pr = pd.read_csv(\"SVMRBF12_pr.csv\", sep=\",\", index_col=False).T\n",
    "SVMRBF12_roc = pd.read_csv(\"SVMRBF12_roc.csv\", sep=\",\", index_col=False).T"
   ]
  },
  {
   "cell_type": "code",
   "execution_count": null,
   "metadata": {},
   "outputs": [],
   "source": [
    "SVMWGTS1_pr = pd.read_csv(\"SVMWGTS1_pr.csv\", sep=\",\", index_col=False).T\n",
    "SVMWGTS1_roc = pd.read_csv(\"SVMWGTS1_roc.csv\", sep=\",\", index_col=False).T\n",
    "SVMWGTS2_pr = pd.read_csv(\"SVMWGTS2_pr.csv\", sep=\",\", index_col=False).T\n",
    "SVMWGTS2_roc = pd.read_csv(\"SVMWGTS2_roc.csv\", sep=\",\", index_col=False).T\n",
    "SVMWGTS12_pr = pd.read_csv(\"SVMWGTS12_pr.csv\", sep=\",\", index_col=False).T\n",
    "SVMWGTS12_roc = pd.read_csv(\"SVMWGTS12_roc.csv\", sep=\",\", index_col=False).T"
   ]
  },
  {
   "attachments": {},
   "cell_type": "markdown",
   "metadata": {},
   "source": [
    "## DGI"
   ]
  },
  {
   "cell_type": "code",
   "execution_count": null,
   "metadata": {},
   "outputs": [],
   "source": [
    "datas = [\n",
    "        KR1_roc, \n",
    "        KRNMF1_roc, \n",
    "        ]\n",
    "\n",
    "names = [\n",
    "         \"KR\",\n",
    "         \"VKR\"\n",
    "        ]\n",
    "\n",
    "colors = [\n",
    "         \"#9E9E9E\",\n",
    "         \"#F0988C\",\n",
    "        ]\n",
    "\n",
    "plt.style.use(\"seaborn-whitegrid\")\n",
    "         \n",
    "         \n",
    "plt.figure(figsize=(5,5), dpi=350)\n",
    "for name, data, colorname in zip(names, datas, colors):\n",
    "    # print(data)\n",
    "    fpr = data.iloc[0,:]\n",
    "    tpr = data.iloc[1,:]\n",
    "    plt.plot(fpr, tpr, lw=1.5, label='{} (AUC={:.3f})'.format(name, auc(fpr, tpr)),color = colorname, linestyle='--')\n",
    "    plt.axis('square')\n",
    "    plt.xlim([0, 1])\n",
    "    plt.ylim([0, 1])\n",
    "    plt.xlabel('False Positive Rate')\n",
    "    plt.ylabel('True Positive Rate')\n",
    "    plt.title('ROC - KR and VKR with feature DGI')\n",
    "    plt.legend(loc='lower right',fontsize=8)\n",
    "plt.plot([0, 1], [0, 1], '--', lw=1, color = 'grey')\n",
    "plt.savefig(fname=\"KR_VKR_ROC_DGI.jpg\",bbox_inches=\"tight\")\n",
    "plt.show()\n",
    "\n",
    "\n",
    "datas = [KR1_pr, \n",
    "        KRNMF1_pr\n",
    "        ]\n",
    "\n",
    "names = [\n",
    "         \"KR\",\n",
    "         \"VKR\"\n",
    "        ]\n",
    "\n",
    "colors = [\"#9E9E9E\",\n",
    "         \"#F0988C\"\n",
    "         ]\n",
    "\n",
    "plt.figure(figsize=(5,5), dpi=350)\n",
    "for name, data, colorname in zip(names, datas, colors):\n",
    "    # print(data)\n",
    "    pr = data.iloc[0,:]\n",
    "    rc = data.iloc[1,:]\n",
    "    plt.plot(rc, pr, lw=1.5, label='{} (AUC={:.3f})'.format(name, auc(rc, pr)),color = colorname, linestyle='--')\n",
    "    plt.axis('square')\n",
    "    plt.xlim([0, 1])\n",
    "    plt.ylim([0, 1])\n",
    "    plt.xlabel('Recall')\n",
    "    plt.ylabel('Precsion')\n",
    "    plt.title('PR - KR and VKR with feature DGI')\n",
    "    plt.legend(loc='upper right',fontsize=8)\n",
    "plt.plot([0, 1], [1, 0], '--', lw=1, color = 'grey')\n",
    "plt.savefig(fname=\"KR_VKR_PRC_DGI.jpg\",bbox_inches=\"tight\")\n",
    "plt.show()"
   ]
  },
  {
   "attachments": {},
   "cell_type": "markdown",
   "metadata": {},
   "source": [
    "## Chem"
   ]
  },
  {
   "cell_type": "code",
   "execution_count": null,
   "metadata": {},
   "outputs": [],
   "source": [
    "datas = [\n",
    "        KR2_roc, \n",
    "        KRNMF2_roc, \n",
    "        ]\n",
    "\n",
    "names = [\n",
    "         \"KR\",\n",
    "         \"VKR\"\n",
    "        ]\n",
    "\n",
    "colors = [\n",
    "         \"#9E9E9E\",\n",
    "         \"#F0988C\",\n",
    "        ]\n",
    "\n",
    "plt.style.use(\"seaborn-whitegrid\")\n",
    "         \n",
    "         \n",
    "plt.figure(figsize=(5,5), dpi=350)\n",
    "for name, data, colorname in zip(names, datas, colors):\n",
    "    # print(data)\n",
    "    fpr = data.iloc[0,:]\n",
    "    tpr = data.iloc[1,:]\n",
    "    plt.plot(fpr, tpr, lw=1.5, label='{} (AUC={:.3f})'.format(name, auc(fpr, tpr)),color = colorname, linestyle='--')\n",
    "    plt.axis('square')\n",
    "    plt.xlim([0, 1])\n",
    "    plt.ylim([0, 1])\n",
    "    plt.xlabel('False Positive Rate')\n",
    "    plt.ylabel('True Positive Rate')\n",
    "    plt.title('ROC - KR and VKR with feature Chem')\n",
    "    plt.legend(loc='lower right',fontsize=8)\n",
    "plt.plot([0, 1], [0, 1], '--', lw=1, color = 'grey')\n",
    "plt.savefig(fname=\"KR_VKR_ROC_Chem.jpg\",bbox_inches=\"tight\")\n",
    "plt.show()\n",
    "\n",
    "\n",
    "datas = [KR2_pr, \n",
    "        KRNMF2_pr\n",
    "        ]\n",
    "\n",
    "names = [\n",
    "         \"KR\",\n",
    "         \"VKR\"\n",
    "        ]\n",
    "\n",
    "colors = [\"#9E9E9E\",\n",
    "         \"#F0988C\"\n",
    "         ]\n",
    "\n",
    "plt.figure(figsize=(5,5), dpi=350)\n",
    "for name, data, colorname in zip(names, datas, colors):\n",
    "    # print(data)\n",
    "    pr = data.iloc[0,:]\n",
    "    rc = data.iloc[1,:]\n",
    "    plt.plot(rc, pr, lw=1.5, label='{} (AUC={:.3f})'.format(name, auc(rc, pr)),color = colorname, linestyle='--')\n",
    "    plt.axis('square')\n",
    "    plt.xlim([0, 1])\n",
    "    plt.ylim([0, 1])\n",
    "    plt.xlabel('Recall')\n",
    "    plt.ylabel('Precsion')\n",
    "    plt.title('PR - KR and VKR with feature Chem')\n",
    "    plt.legend(loc='upper right',fontsize=8)\n",
    "plt.plot([0, 1], [1, 0], '--', lw=1, color = 'grey')\n",
    "plt.savefig(fname=\"KR_VKR_PRC_Chem.jpg\",bbox_inches=\"tight\")\n",
    "plt.show()"
   ]
  },
  {
   "attachments": {},
   "cell_type": "markdown",
   "metadata": {},
   "source": [
    "## DGI and Chem"
   ]
  },
  {
   "cell_type": "code",
   "execution_count": null,
   "metadata": {},
   "outputs": [],
   "source": [
    "datas = [\n",
    "        KR1KR2_roc, \n",
    "        KRNMF12_roc, \n",
    "        MKR_roc,\n",
    "        ]\n",
    "\n",
    "names = [\n",
    "         \"KR\",\n",
    "         \"VKR\",\n",
    "         \"MKR\"\n",
    "        ]\n",
    "\n",
    "colors = [\n",
    "         \"#9E9E9E\",\n",
    "         \"#F0988C\",\n",
    "         \"#B883D4\"\n",
    "        ]\n",
    "\n",
    "plt.style.use(\"seaborn-whitegrid\")\n",
    "         \n",
    "         \n",
    "plt.figure(figsize=(5,5), dpi=350)\n",
    "for name, data, colorname in zip(names, datas, colors):\n",
    "    # print(data)\n",
    "    fpr = data.iloc[0,:]\n",
    "    tpr = data.iloc[1,:]\n",
    "    plt.plot(fpr, tpr, lw=1.5, label='{} (AUC={:.3f})'.format(name, auc(fpr, tpr)),color = colorname, linestyle='--')\n",
    "    plt.axis('square')\n",
    "    plt.xlim([0, 1])\n",
    "    plt.ylim([0, 1])\n",
    "    plt.xlabel('False Positive Rate')\n",
    "    plt.ylabel('True Positive Rate')\n",
    "    plt.title('ROC with feature DGI and Chem')\n",
    "    plt.legend(loc='lower right',fontsize=8)\n",
    "plt.plot([0, 1], [0, 1], '--', lw=1, color = 'grey')\n",
    "plt.savefig(fname=\"KR_VKR_ROC_DGI_Chem.jpg\",bbox_inches=\"tight\")\n",
    "plt.show()\n",
    "\n",
    "\n",
    "datas = [KR1KR2_pr, \n",
    "        KRNMF12_pr,\n",
    "        MKR_pr\n",
    "        ]\n",
    "\n",
    "names = [\n",
    "         \"KR\",\n",
    "         \"VKR\",\n",
    "         \"MKR\"\n",
    "        ]\n",
    "\n",
    "colors = [\"#9E9E9E\",\n",
    "         \"#F0988C\",\n",
    "         \"#B883D4\"\n",
    "         ]\n",
    "\n",
    "plt.figure(figsize=(5,5), dpi=350)\n",
    "for name, data, colorname in zip(names, datas, colors):\n",
    "    # print(data)\n",
    "    pr = data.iloc[0,:]\n",
    "    rc = data.iloc[1,:]\n",
    "    plt.plot(rc, pr, lw=1.5, label='{} (AUC={:.3f})'.format(name, auc(rc, pr)),color = colorname, linestyle='--')\n",
    "    plt.axis('square')\n",
    "    plt.xlim([0, 1])\n",
    "    plt.ylim([0, 1])\n",
    "    plt.xlabel('Recall')\n",
    "    plt.ylabel('Precsion')\n",
    "    plt.title('PR with feature DGI and Chem')\n",
    "    plt.legend(loc='upper right',fontsize=8)\n",
    "plt.plot([0, 1], [1, 0], '--', lw=1, color = 'grey')\n",
    "plt.savefig(fname=\"KR_VKR_PRC_DGI_Chem.jpg\",bbox_inches=\"tight\")\n",
    "plt.show()"
   ]
  }
 ],
 "metadata": {
  "kernelspec": {
   "display_name": "Python 3.9.5 ('tf-2')",
   "language": "python",
   "name": "python3"
  },
  "language_info": {
   "codemirror_mode": {
    "name": "ipython",
    "version": 3
   },
   "file_extension": ".py",
   "mimetype": "text/x-python",
   "name": "python",
   "nbconvert_exporter": "python",
   "pygments_lexer": "ipython3",
   "version": "3.9.0"
  },
  "orig_nbformat": 4,
  "vscode": {
   "interpreter": {
    "hash": "ac95e2fd4e3c95fb3fb1f7e38114c393d9f202cef380ef2efc5a4245619d104b"
   }
  }
 },
 "nbformat": 4,
 "nbformat_minor": 2
}
